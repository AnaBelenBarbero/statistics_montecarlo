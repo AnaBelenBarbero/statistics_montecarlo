{
 "cells": [
  {
   "cell_type": "code",
   "execution_count": 216,
   "metadata": {},
   "outputs": [],
   "source": [
    "## Imagine you flip a fair coin 100 times. It gives a sequence of heads (H) and tails (T). \n",
    "## For each HH in the sequence of flips, Ana gets a point. For each HT, Carlos does.\n",
    "## For example: for the sequence THHHT, Ana gets 2 points and Carlos gets 1 point. \n",
    "\n",
    "## Who is most likely to win?\n",
    "\n",
    "## Let's discover it!"
   ]
  },
  {
   "cell_type": "code",
   "execution_count": 217,
   "metadata": {},
   "outputs": [],
   "source": [
    "import pandas as pd\n",
    "import numpy as np\n",
    "from scipy.stats import binom\n",
    "import matplotlib.pyplot as plt \n",
    "\n",
    "def get_array(n:int):\n",
    "    flip_times = binom.rvs(1, 0.5, size=n)\n",
    "    dic = {0: \"H\", 1:\"T\"}\n",
    "    flip_results = [dic[i] for i in flip_times]\n",
    "    flip_results_array = np.array(flip_results)\n",
    "    \n",
    "    count_ana, count_carlos = 0, 0\n",
    "\n",
    "    for i in range(1, len(flip_results_array)):\n",
    "        if flip_results_array[i-1] + flip_results_array[i] == \"HH\":\n",
    "            count_ana += 1\n",
    "        elif flip_results_array[i-1] + flip_results_array[i] == \"HT\":\n",
    "            count_carlos += 1\n",
    "    \n",
    "    return count_ana, count_carlos, n\n",
    "\n",
    "def run_experiments(times:int, n:int):\n",
    "    np.random.seed(10)\n",
    "    results = []\n",
    "    for t in range(times):\n",
    "        results.append(get_array(n))\n",
    "    \n",
    "    return pd.DataFrame(results, index=range(1,times+1) , columns=[\"ana_points\", \"carlos_points\", \"n\"])"
   ]
  },
  {
   "cell_type": "code",
   "execution_count": 218,
   "metadata": {},
   "outputs": [
    {
     "data": {
      "text/html": [
       "<div>\n",
       "<style scoped>\n",
       "    .dataframe tbody tr th:only-of-type {\n",
       "        vertical-align: middle;\n",
       "    }\n",
       "\n",
       "    .dataframe tbody tr th {\n",
       "        vertical-align: top;\n",
       "    }\n",
       "\n",
       "    .dataframe thead th {\n",
       "        text-align: right;\n",
       "    }\n",
       "</style>\n",
       "<table border=\"1\" class=\"dataframe\">\n",
       "  <thead>\n",
       "    <tr style=\"text-align: right;\">\n",
       "      <th></th>\n",
       "      <th>ana_points</th>\n",
       "      <th>carlos_points</th>\n",
       "      <th>n</th>\n",
       "    </tr>\n",
       "  </thead>\n",
       "  <tbody>\n",
       "    <tr>\n",
       "      <th>1</th>\n",
       "      <td>27</td>\n",
       "      <td>24</td>\n",
       "      <td>100</td>\n",
       "    </tr>\n",
       "  </tbody>\n",
       "</table>\n",
       "</div>"
      ],
      "text/plain": [
       "   ana_points  carlos_points    n\n",
       "1          27             24  100"
      ]
     },
     "execution_count": 218,
     "metadata": {},
     "output_type": "execute_result"
    }
   ],
   "source": [
    "run_experiments(1,100)"
   ]
  },
  {
   "cell_type": "code",
   "execution_count": 219,
   "metadata": {},
   "outputs": [
    {
     "data": {
      "text/html": [
       "<div>\n",
       "<style scoped>\n",
       "    .dataframe tbody tr th:only-of-type {\n",
       "        vertical-align: middle;\n",
       "    }\n",
       "\n",
       "    .dataframe tbody tr th {\n",
       "        vertical-align: top;\n",
       "    }\n",
       "\n",
       "    .dataframe thead th {\n",
       "        text-align: right;\n",
       "    }\n",
       "</style>\n",
       "<table border=\"1\" class=\"dataframe\">\n",
       "  <thead>\n",
       "    <tr style=\"text-align: right;\">\n",
       "      <th></th>\n",
       "      <th>ana_points</th>\n",
       "      <th>carlos_points</th>\n",
       "      <th>n</th>\n",
       "      <th>winner</th>\n",
       "    </tr>\n",
       "  </thead>\n",
       "  <tbody>\n",
       "    <tr>\n",
       "      <th>1</th>\n",
       "      <td>27</td>\n",
       "      <td>24</td>\n",
       "      <td>100</td>\n",
       "      <td>Ana</td>\n",
       "    </tr>\n",
       "    <tr>\n",
       "      <th>2</th>\n",
       "      <td>27</td>\n",
       "      <td>23</td>\n",
       "      <td>100</td>\n",
       "      <td>Ana</td>\n",
       "    </tr>\n",
       "    <tr>\n",
       "      <th>3</th>\n",
       "      <td>23</td>\n",
       "      <td>25</td>\n",
       "      <td>100</td>\n",
       "      <td>Carlos</td>\n",
       "    </tr>\n",
       "    <tr>\n",
       "      <th>4</th>\n",
       "      <td>22</td>\n",
       "      <td>25</td>\n",
       "      <td>100</td>\n",
       "      <td>Carlos</td>\n",
       "    </tr>\n",
       "    <tr>\n",
       "      <th>5</th>\n",
       "      <td>20</td>\n",
       "      <td>21</td>\n",
       "      <td>100</td>\n",
       "      <td>Carlos</td>\n",
       "    </tr>\n",
       "  </tbody>\n",
       "</table>\n",
       "</div>"
      ],
      "text/plain": [
       "   ana_points  carlos_points    n  winner\n",
       "1          27             24  100     Ana\n",
       "2          27             23  100     Ana\n",
       "3          23             25  100  Carlos\n",
       "4          22             25  100  Carlos\n",
       "5          20             21  100  Carlos"
      ]
     },
     "execution_count": 219,
     "metadata": {},
     "output_type": "execute_result"
    }
   ],
   "source": [
    "df = run_experiments(1000,100)\n",
    "df[\"winner\"] = df.apply(lambda row: \"Ana\" if row[\"ana_points\"] > row[\"carlos_points\"] else (\"Carlos\" if row[\"ana_points\"] < row[\"carlos_points\"] else \"Draw\"), axis=1)\n",
    "df.head()\n"
   ]
  },
  {
   "cell_type": "code",
   "execution_count": 220,
   "metadata": {},
   "outputs": [
    {
     "name": "stdout",
     "output_type": "stream",
     "text": [
      "winner\n",
      "Ana       445\n",
      "Carlos    489\n",
      "Draw       66\n",
      "Name: count, dtype: int64\n"
     ]
    }
   ],
   "source": [
    "winners = df[\"winner\"].value_counts().sort_index(ascending=True)\n",
    "print(winners)\n"
   ]
  },
  {
   "cell_type": "code",
   "execution_count": 221,
   "metadata": {},
   "outputs": [
    {
     "name": "stdout",
     "output_type": "stream",
     "text": [
      "[0.445, 0.489, 0.066]\n"
     ]
    }
   ],
   "source": [
    "prob_carlos_wins=winners[1]/(winners.sum())\n",
    "prob_ana_wins=winners[0]/(winners.sum())\n",
    "\n",
    "prob_list = [prob_ana_wins, prob_carlos_wins, 1-prob_carlos_wins-prob_ana_wins]\n",
    "\n",
    "print(prob_list)"
   ]
  },
  {
   "cell_type": "code",
   "execution_count": 222,
   "metadata": {},
   "outputs": [
    {
     "name": "stdout",
     "output_type": "stream",
     "text": [
      "        times   prob\n",
      "winner              \n",
      "Ana       445  0.445\n",
      "Carlos    489  0.489\n",
      "Draw       66  0.066\n"
     ]
    }
   ],
   "source": [
    "prob = pd.DataFrame({\"times\": winners, \"prob\": prob_list})\n",
    "print(prob)"
   ]
  },
  {
   "cell_type": "code",
   "execution_count": 223,
   "metadata": {},
   "outputs": [
    {
     "data": {
      "image/png": "[encoded data removed]",
      "text/plain": [
       "<Figure size 640x480 with 1 Axes>"
      ]
     },
     "metadata": {},
     "output_type": "display_data"
    }
   ],
   "source": [
    "ana=df[\"ana_points\"]\n",
    "carlos=df[\"carlos_points\"]\n",
    "\n",
    "bins=range(min(ana.min(), carlos.min()), max(ana.max(), carlos.max()), 1)\n",
    "\n",
    "ana.hist(bins=bins, alpha=0.5, color=\"green\", edgecolor=\"black\", label=\"Ana's points\")\n",
    "carlos.hist(bins=bins, alpha=0.5, color=\"red\", edgecolor=\"black\", label=\"Carlos' points\")\n",
    "plt.axvline(np.nanmean(ana), color=\"blue\", alpha=0.5)\n",
    "plt.axvline(np.nanmean(carlos), color=\"pink\", alpha=0.5)\n",
    "\n",
    "plt.xlabel(\"Points\")\n",
    "plt.ylabel(\"Frequency\")\n",
    "plt.legend()\n",
    "\n",
    "plt.tight_layout()\n",
    "\n",
    "plt.show()"
   ]
  },
  {
   "cell_type": "code",
   "execution_count": 224,
   "metadata": {},
   "outputs": [
    {
     "data": {
      "text/html": [
       "<div>\n",
       "<style scoped>\n",
       "    .dataframe tbody tr th:only-of-type {\n",
       "        vertical-align: middle;\n",
       "    }\n",
       "\n",
       "    .dataframe tbody tr th {\n",
       "        vertical-align: top;\n",
       "    }\n",
       "\n",
       "    .dataframe thead th {\n",
       "        text-align: right;\n",
       "    }\n",
       "</style>\n",
       "<table border=\"1\" class=\"dataframe\">\n",
       "  <thead>\n",
       "    <tr style=\"text-align: right;\">\n",
       "      <th></th>\n",
       "      <th>ana_points</th>\n",
       "      <th>carlos_points</th>\n",
       "      <th>n</th>\n",
       "    </tr>\n",
       "  </thead>\n",
       "  <tbody>\n",
       "    <tr>\n",
       "      <th>count</th>\n",
       "      <td>1000.00</td>\n",
       "      <td>1000.00</td>\n",
       "      <td>1000.0</td>\n",
       "    </tr>\n",
       "    <tr>\n",
       "      <th>mean</th>\n",
       "      <td>24.89</td>\n",
       "      <td>24.78</td>\n",
       "      <td>100.0</td>\n",
       "    </tr>\n",
       "    <tr>\n",
       "      <th>std</th>\n",
       "      <td>5.49</td>\n",
       "      <td>2.50</td>\n",
       "      <td>0.0</td>\n",
       "    </tr>\n",
       "    <tr>\n",
       "      <th>min</th>\n",
       "      <td>10.00</td>\n",
       "      <td>17.00</td>\n",
       "      <td>100.0</td>\n",
       "    </tr>\n",
       "    <tr>\n",
       "      <th>25%</th>\n",
       "      <td>21.00</td>\n",
       "      <td>23.00</td>\n",
       "      <td>100.0</td>\n",
       "    </tr>\n",
       "    <tr>\n",
       "      <th>50%</th>\n",
       "      <td>25.00</td>\n",
       "      <td>25.00</td>\n",
       "      <td>100.0</td>\n",
       "    </tr>\n",
       "    <tr>\n",
       "      <th>75%</th>\n",
       "      <td>28.00</td>\n",
       "      <td>26.00</td>\n",
       "      <td>100.0</td>\n",
       "    </tr>\n",
       "    <tr>\n",
       "      <th>max</th>\n",
       "      <td>43.00</td>\n",
       "      <td>33.00</td>\n",
       "      <td>100.0</td>\n",
       "    </tr>\n",
       "  </tbody>\n",
       "</table>\n",
       "</div>"
      ],
      "text/plain": [
       "       ana_points  carlos_points       n\n",
       "count     1000.00        1000.00  1000.0\n",
       "mean        24.89          24.78   100.0\n",
       "std          5.49           2.50     0.0\n",
       "min         10.00          17.00   100.0\n",
       "25%         21.00          23.00   100.0\n",
       "50%         25.00          25.00   100.0\n",
       "75%         28.00          26.00   100.0\n",
       "max         43.00          33.00   100.0"
      ]
     },
     "execution_count": 224,
     "metadata": {},
     "output_type": "execute_result"
    }
   ],
   "source": [
    "df.describe().round(2)"
   ]
  }
 ],
 "metadata": {
  "kernelspec": {
   "display_name": "base",
   "language": "python",
   "name": "python3"
  },
  "language_info": {
   "codemirror_mode": {
    "name": "ipython",
    "version": 3
   },
   "file_extension": ".py",
   "mimetype": "text/x-python",
   "name": "python",
   "nbconvert_exporter": "python",
   "pygments_lexer": "ipython3",
   "version": "3.10.11"
  }
 },
 "nbformat": 4,
 "nbformat_minor": 2
}
